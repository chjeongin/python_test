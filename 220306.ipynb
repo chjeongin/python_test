{
 "cells": [
  {
   "cell_type": "code",
   "execution_count": 12,
   "metadata": {},
   "outputs": [
    {
     "name": "stdout",
     "output_type": "stream",
     "text": [
      "안녕하세요 홍길동살 27입니다.\n",
      "안녕하세요 홍길순살 25입니다.\n"
     ]
    }
   ],
   "source": [
    "# 다음 코드가 동작하도록 class를 완성해주세요\n",
    "\n",
    "class Person:\n",
    "  def __init__(self, name, age):\n",
    "      self.name = name\n",
    "      self.age = age\n",
    "  def introduce (self):\n",
    "    print (\"안녕하세요 {}살 {}입니다.\".format(self.name, self.age))\n",
    " \n",
    "\n",
    "\n",
    "p1 = Person(\"홍길동\", 27)\n",
    "p2 = Person(\"홍길순\", 25)\n",
    "\n",
    "p1.introduce() # 안녕하세요 27살 홍길동입니다.\n",
    "p2.introduce() # 안녕하세요 25살 홍길순입니다."
   ]
  },
  {
   "cell_type": "code",
   "execution_count": 20,
   "metadata": {},
   "outputs": [
    {
     "name": "stdout",
     "output_type": "stream",
     "text": [
      "하얀색 소나타가/이 100km로 달립니다.\n",
      "검정색 모닝가/이 70km로 달립니다.\n"
     ]
    }
   ],
   "source": [
    "class Car:\n",
    "  def __init__(self,model, color,vel):\n",
    "    self.model = model\n",
    "    self.color = color\n",
    "    \n",
    "    self.vel = vel\n",
    "  def drive(self) :\n",
    "    print(\"{} {}가/이 {}km로 달립니다.\".format(self.color, self.model, self.vel))\n",
    "\n",
    "c1 = Car(\"소나타\", \"하얀색\", 100)\n",
    "c2 = Car(\"모닝\", \"검정색\", 70)\n",
    "\n",
    "c1.drive() # 하얀색 소나타이/가 100km로 달립니다.\n",
    "c2.drive() # 검정색 모닝이/가 70km로 달립니다.\n",
    "\n",
    "\n"
   ]
  },
  {
   "cell_type": "code",
   "execution_count": 22,
   "metadata": {},
   "outputs": [
    {
     "name": "stdout",
     "output_type": "stream",
     "text": [
      "[4살 러시안블루 고양이 아리가 야옹하고 웁니다.\n",
      "[6살 샴 고양이 망고가 야옹하고 웁니다.\n"
     ]
    }
   ],
   "source": [
    "class Cat :\n",
    "    def __init__(self,name, breed, age) :\n",
    "        self.name = name\n",
    "        self.breed = breed\n",
    "        self.age = age\n",
    "    def meow(self):\n",
    "        print(\"[{}살 {} 고양이 {}가 야옹하고 웁니다.\".format(self.age, self.breed, self.name))\n",
    "\n",
    "\n",
    "cat1 = Cat(\"아리\", \"러시안블루\", 4)\n",
    "cat2 = Cat(\"망고\", \"샴\", 6)\n",
    "\n",
    "cat1.meow() # 4살 러시안블루 고양이 아리가 야옹하고 웁니다.\n",
    "cat2.meow() # 6살 샴 고양이 망고가 야옹하고 웁니다.\n"
   ]
  },
  {
   "cell_type": "code",
   "execution_count": 24,
   "metadata": {},
   "outputs": [
    {
     "name": "stdout",
     "output_type": "stream",
     "text": [
      "이름 : 이순신, 공격력 : 20, 방어력 : 10\n",
      "이름 : 강감찬, 공격력 : 15, 방어력 : 15\n",
      "이순신이 20의 데미지를 입힙니다\n",
      "강감찬이 15의 데미지를 입힙니다\n",
      "이순신이 10 데미지를 방어합니다\n",
      "강감찬이 15 데미지를 방어합니다\n"
     ]
    }
   ],
   "source": [
    "class Warrior :\n",
    "    def __init__(self, name, att, defen):\n",
    "        self.name = name\n",
    "        self.att = att\n",
    "        self.defen = defen\n",
    "    def status(self):\n",
    "        print (\"이름 : {}, 공격력 : {}, 방어력 : {}\".format(self.name, self.att, self.defen))\n",
    "    def attack (self):\n",
    "        print(\"{}이 {}의 데미지를 입힙니다\".format(self.name, self.att))\n",
    "    def defense(self):\n",
    "        print(\"{}이 {} 데미지를 방어합니다\".format(self.name, self.defen))\n",
    "\n",
    "\n",
    "\n",
    "\n",
    "\n",
    "w1 = Warrior(\"이순신\", 20, 10)\n",
    "w2 = Warrior(\"강감찬\", 15, 15)\n",
    "\n",
    "w1.status() # 이름 : 이순신, 공격력 : 20, 방어력 : 10 \n",
    "w2.status() # 이름 : 강감찬, 공격력 : 15, 방어력 : 15 \n",
    "\n",
    "w1.attack() # 이순신이 20의 데미지를 입힙민다.\n",
    "w2.attack() # 강감찬이 15의 데미지를 입힙민다. \n",
    "\n",
    "w1.defense() # 이순신이 10 데미지를 방어합니다.\n",
    "w2.defense() # 강감찬이 15 데미지를 방어합니다.\n"
   ]
  },
  {
   "cell_type": "code",
   "execution_count": 52,
   "metadata": {},
   "outputs": [
    {
     "name": "stdout",
     "output_type": "stream",
     "text": [
      "['c:\\\\m', 'C:\\\\Users\\\\Administrator\\\\AppData\\\\Local\\\\Programs\\\\Python\\\\Python310\\\\python310.zip', 'C:\\\\Users\\\\Administrator\\\\AppData\\\\Local\\\\Programs\\\\Python\\\\Python310\\\\DLLs', 'C:\\\\Users\\\\Administrator\\\\AppData\\\\Local\\\\Programs\\\\Python\\\\Python310\\\\lib', 'C:\\\\Users\\\\Administrator\\\\AppData\\\\Local\\\\Programs\\\\Python\\\\Python310', '', 'C:\\\\Users\\\\Administrator\\\\AppData\\\\Roaming\\\\Python\\\\Python310\\\\site-packages', 'C:\\\\Users\\\\Administrator\\\\AppData\\\\Roaming\\\\Python\\\\Python310\\\\site-packages\\\\win32', 'C:\\\\Users\\\\Administrator\\\\AppData\\\\Roaming\\\\Python\\\\Python310\\\\site-packages\\\\win32\\\\lib', 'C:\\\\Users\\\\Administrator\\\\AppData\\\\Roaming\\\\Python\\\\Python310\\\\site-packages\\\\Pythonwin', 'C:\\\\Users\\\\Administrator\\\\AppData\\\\Local\\\\Programs\\\\Python\\\\Python310\\\\lib\\\\site-packages', 'C:\\\\m\\x0c1', 'C:\\\\m\\x0c2', 'C:\\\\m\\x0c2', 'C:\\\\m\\x0c2', 'C:\\\\m\\test', 'C:\\\\m\\test', 'C:\\\\m\\test', 'C:\\\\m\\test', 'C:\\\\m\\test', 'C:\\\\m\\test', 'C:\\\\m\\test', 'C:\\\\m\\test', 'C:\\\\m\\test', 'C:\\\\m\\x0c1', 'C:\\\\m\\x0c1', 'C:\\\\m\\x0c3', 'C:\\\\m\\x0c3', 'C:\\\\m\\x0c3', 'C:\\\\m\\x0c3', 'C:\\\\m\\x0c1', 'C:\\\\m\\x0c3', 'C:\\\\m\\test', 'C:\\\\m\\test', 'C:\\\\m\\x0c3']\n"
     ]
    }
   ],
   "source": [
    "import sys\n",
    "print(sys.path)\n",
    "# sys.path.append('C:\\m\\f1')\n",
    "# import f1\n",
    "# print(f1.test())\n"
   ]
  },
  {
   "cell_type": "code",
   "execution_count": 53,
   "metadata": {},
   "outputs": [
    {
     "name": "stdout",
     "output_type": "stream",
     "text": [
      "첫번째 테스트\n"
     ]
    }
   ],
   "source": [
    "\n",
    "sys.path.append('C:\\m\\f1')\n",
    "import f1\n",
    "print(f1.test())\n"
   ]
  },
  {
   "cell_type": "code",
   "execution_count": 50,
   "metadata": {},
   "outputs": [
    {
     "name": "stdout",
     "output_type": "stream",
     "text": [
      "2번 함수입니다.\n",
      "3번 함수입니다.\n"
     ]
    }
   ],
   "source": [
    "sys.path.append('C:\\m\\f3')\n",
    "from f3 import a2, a3\n",
    "print(a2())\n",
    "print(a3())"
   ]
  },
  {
   "cell_type": "code",
   "execution_count": 54,
   "metadata": {},
   "outputs": [
    {
     "ename": "AttributeError",
     "evalue": "module 'test' has no attribute 'func'",
     "output_type": "error",
     "traceback": [
      "\u001b[1;31m---------------------------------------------------------------------------\u001b[0m",
      "\u001b[1;31mAttributeError\u001b[0m                            Traceback (most recent call last)",
      "\u001b[1;32mc:\\m\\220306.ipynb Cell 8'\u001b[0m in \u001b[0;36m<cell line: 3>\u001b[1;34m()\u001b[0m\n\u001b[0;32m      <a href='vscode-notebook-cell:/c%3A/m/220306.ipynb#ch0000007?line=0'>1</a>\u001b[0m sys\u001b[39m.\u001b[39mpath\u001b[39m.\u001b[39mappend(\u001b[39m'\u001b[39m\u001b[39mC:\u001b[39m\u001b[39m\\\u001b[39m\u001b[39mm\u001b[39m\u001b[39m\\t\u001b[39;00m\u001b[39mest\u001b[39m\u001b[39m'\u001b[39m)\n\u001b[0;32m      <a href='vscode-notebook-cell:/c%3A/m/220306.ipynb#ch0000007?line=1'>2</a>\u001b[0m \u001b[39mimport\u001b[39;00m \u001b[39mtest\u001b[39;00m\n\u001b[1;32m----> <a href='vscode-notebook-cell:/c%3A/m/220306.ipynb#ch0000007?line=2'>3</a>\u001b[0m \u001b[39mprint\u001b[39m(test\u001b[39m.\u001b[39;49mfunc())\n",
      "\u001b[1;31mAttributeError\u001b[0m: module 'test' has no attribute 'func'"
     ]
    }
   ],
   "source": [
    "sys.path.append('C:\\m\\test')\n",
    "import test\n",
    "print(test.func())"
   ]
  },
  {
   "cell_type": "code",
   "execution_count": 56,
   "metadata": {},
   "outputs": [
    {
     "ename": "SyntaxError",
     "evalue": "invalid syntax (1516361976.py, line 13)",
     "output_type": "error",
     "traceback": [
      "\u001b[1;36m  Input \u001b[1;32mIn [56]\u001b[1;36m\u001b[0m\n\u001b[1;33m    pip install numpy\u001b[0m\n\u001b[1;37m        ^\u001b[0m\n\u001b[1;31mSyntaxError\u001b[0m\u001b[1;31m:\u001b[0m invalid syntax\n"
     ]
    }
   ],
   "source": [
    "#1모듈을 설치할 때\n",
    "#cmd 관리자 권한으로 실햄\n",
    "#pip install 모듈명\n",
    "#pip install numpy\n",
    "#2특정 버전 모듈을 설치할 때\n",
    "#pip install numpy==1.16.4\n",
    "\n",
    "\n",
    "#3삭제할 때\n",
    "#pip uninstall numpy\n",
    "\n",
    "# cmd  명령\n",
    "#  pip install numpy"
   ]
  },
  {
   "cell_type": "code",
   "execution_count": 67,
   "metadata": {},
   "outputs": [
    {
     "name": "stdout",
     "output_type": "stream",
     "text": [
      "버림하기 전 값 :  0.6\n",
      "버림한 후 값 :  0\n"
     ]
    }
   ],
   "source": [
    "import math\n",
    "num1 = 3\n",
    "num2= 5\n",
    "\n",
    "print(\"버림하기 전 값 : \", num1/num2)\n",
    "print(\"버림한 후 값 : \", math.trunc(num1/num2))\n",
    "\n"
   ]
  },
  {
   "cell_type": "code",
   "execution_count": 87,
   "metadata": {},
   "outputs": [
    {
     "name": "stdout",
     "output_type": "stream",
     "text": [
      "총 6 페이지까지 갖고 있어야 볼 수 있습니다\n"
     ]
    }
   ],
   "source": [
    "#ceil() 주어진 숫자보다 큰 가장 가까운 정수\n",
    "#floor() 주어진 숫자보다 작은 가장 가까운 정수\n",
    "\n",
    "import math\n",
    "cnt = int(input(\"몇건의 데이터를 수집할까요? :\"))\n",
    "#수집한 데이터 수가 12페이지일 때, \n",
    "\n",
    "page_cnt =math.ceil(cnt/10)\n",
    "print(\"총 %s 페이지까지 갖고 있어야 볼 수 있습니다\" %page_cnt)"
   ]
  },
  {
   "cell_type": "code",
   "execution_count": 88,
   "metadata": {},
   "outputs": [
    {
     "name": "stdout",
     "output_type": "stream",
     "text": [
      "5.2 보다 작은 가까운 정수는 5 입니다.\n"
     ]
    }
   ],
   "source": [
    "import math\n",
    "a = 5.2\n",
    "b = 5.9\n",
    "print(\"%s 보다 작은 가까운 정수는 %s 입니다.\"%(a, math.floor(a)))"
   ]
  },
  {
   "cell_type": "code",
   "execution_count": 1,
   "metadata": {},
   "outputs": [
    {
     "name": "stdout",
     "output_type": "stream",
     "text": [
      "12\n",
      "45\n"
     ]
    }
   ],
   "source": [
    "import ad\n",
    "print(ad.plus(10,2))\n",
    "print(ad.multi(5,9))\n",
    "\n",
    "    "
   ]
  },
  {
   "cell_type": "code",
   "execution_count": 2,
   "metadata": {},
   "outputs": [
    {
     "ename": "NameError",
     "evalue": "name 'Person' is not defined",
     "output_type": "error",
     "traceback": [
      "\u001b[1;31m---------------------------------------------------------------------------\u001b[0m",
      "\u001b[1;31mNameError\u001b[0m                                 Traceback (most recent call last)",
      "\u001b[1;32mc:\\m\\220306.ipynb Cell 14'\u001b[0m in \u001b[0;36m<cell line: 3>\u001b[1;34m()\u001b[0m\n\u001b[0;32m      <a href='vscode-notebook-cell:/c%3A/m/220306.ipynb#ch0000013?line=0'>1</a>\u001b[0m \u001b[39mimport\u001b[39;00m \u001b[39mperson1\u001b[39;00m\n\u001b[1;32m----> <a href='vscode-notebook-cell:/c%3A/m/220306.ipynb#ch0000013?line=2'>3</a>\u001b[0m p1\u001b[39m=\u001b[39mPerson(\u001b[39m\"\u001b[39m\u001b[39m홍길동\u001b[39m\u001b[39m\"\u001b[39m, \u001b[39m30\u001b[39m)\n\u001b[0;32m      <a href='vscode-notebook-cell:/c%3A/m/220306.ipynb#ch0000013?line=3'>4</a>\u001b[0m p1\u001b[39m.\u001b[39mintroduce()\n",
      "\u001b[1;31mNameError\u001b[0m: name 'Person' is not defined"
     ]
    }
   ],
   "source": [
    "import person1\n",
    "\n",
    "p1=Person(\"홍길동\", 30)\n",
    "p1.introduce()"
   ]
  },
  {
   "cell_type": "code",
   "execution_count": 7,
   "metadata": {},
   "outputs": [
    {
     "name": "stdout",
     "output_type": "stream",
     "text": [
      "True\n"
     ]
    }
   ],
   "source": [
    "import os\n",
    "\n",
    "print(os.path.exists('C:\\m'))"
   ]
  },
  {
   "cell_type": "code",
   "execution_count": 9,
   "metadata": {},
   "outputs": [
    {
     "data": {
      "text/plain": [
       "True"
      ]
     },
     "execution_count": 9,
     "metadata": {},
     "output_type": "execute_result"
    }
   ],
   "source": [
    "import os\n",
    "\n",
    "os.path.isdir('C:\\m')"
   ]
  },
  {
   "cell_type": "code",
   "execution_count": 66,
   "metadata": {},
   "outputs": [
    {
     "ename": "FileNotFoundError",
     "evalue": "[WinError 2] 지정된 파일을 찾을 수 없습니다: 'C:\\\\m\\\\test2.txt'",
     "output_type": "error",
     "traceback": [
      "\u001b[1;31m---------------------------------------------------------------------------\u001b[0m",
      "\u001b[1;31mFileNotFoundError\u001b[0m                         Traceback (most recent call last)",
      "\u001b[1;32mc:\\m\\220306.ipynb Cell 17'\u001b[0m in \u001b[0;36m<cell line: 3>\u001b[1;34m()\u001b[0m\n\u001b[0;32m      <a href='vscode-notebook-cell:/c%3A/m/220306.ipynb#ch0000016?line=0'>1</a>\u001b[0m \u001b[39mimport\u001b[39;00m \u001b[39mos\u001b[39;00m\n\u001b[1;32m----> <a href='vscode-notebook-cell:/c%3A/m/220306.ipynb#ch0000016?line=2'>3</a>\u001b[0m os\u001b[39m.\u001b[39;49mrmdir(\u001b[39m'\u001b[39;49m\u001b[39mC:\u001b[39;49m\u001b[39m\\\\\u001b[39;49;00m\u001b[39mm\u001b[39;49m\u001b[39m\\\\\u001b[39;49;00m\u001b[39mtest2.txt\u001b[39;49m\u001b[39m'\u001b[39;49m)\n",
      "\u001b[1;31mFileNotFoundError\u001b[0m: [WinError 2] 지정된 파일을 찾을 수 없습니다: 'C:\\\\m\\\\test2.txt'"
     ]
    }
   ],
   "source": [
    "import os\n",
    "\n",
    "os.rmdir('C:\\\\m\\\\test2.txt')\n",
    "# os.listdir('C:\\m')\n"
   ]
  },
  {
   "cell_type": "code",
   "execution_count": 62,
   "metadata": {},
   "outputs": [
    {
     "ename": "FileNotFoundError",
     "evalue": "[WinError 3] 지정된 경로를 찾을 수 없습니다: 'C:\\\\m\\\\test2'",
     "output_type": "error",
     "traceback": [
      "\u001b[1;31m---------------------------------------------------------------------------\u001b[0m",
      "\u001b[1;31mFileNotFoundError\u001b[0m                         Traceback (most recent call last)",
      "\u001b[1;32mc:\\m\\220306.ipynb Cell 18'\u001b[0m in \u001b[0;36m<cell line: 3>\u001b[1;34m()\u001b[0m\n\u001b[0;32m      <a href='vscode-notebook-cell:/c%3A/m/220306.ipynb#ch0000020?line=0'>1</a>\u001b[0m \u001b[39mimport\u001b[39;00m \u001b[39mshutil\u001b[39;00m\n\u001b[1;32m----> <a href='vscode-notebook-cell:/c%3A/m/220306.ipynb#ch0000020?line=2'>3</a>\u001b[0m shutil\u001b[39m.\u001b[39;49mrmtree(\u001b[39m'\u001b[39;49m\u001b[39mC:\u001b[39;49m\u001b[39m\\\\\u001b[39;49;00m\u001b[39mm\u001b[39;49m\u001b[39m\\\\\u001b[39;49;00m\u001b[39mtest2\u001b[39;49m\u001b[39m'\u001b[39;49m)\n",
      "File \u001b[1;32m~\\AppData\\Local\\Programs\\Python\\Python310\\lib\\shutil.py:739\u001b[0m, in \u001b[0;36mrmtree\u001b[1;34m(path, ignore_errors, onerror)\u001b[0m\n\u001b[0;32m    <a href='file:///c%3A/Users/Administrator/AppData/Local/Programs/Python/Python310/lib/shutil.py?line=736'>737</a>\u001b[0m     \u001b[39m# can't continue even if onerror hook returns\u001b[39;00m\n\u001b[0;32m    <a href='file:///c%3A/Users/Administrator/AppData/Local/Programs/Python/Python310/lib/shutil.py?line=737'>738</a>\u001b[0m     \u001b[39mreturn\u001b[39;00m\n\u001b[1;32m--> <a href='file:///c%3A/Users/Administrator/AppData/Local/Programs/Python/Python310/lib/shutil.py?line=738'>739</a>\u001b[0m \u001b[39mreturn\u001b[39;00m _rmtree_unsafe(path, onerror)\n",
      "File \u001b[1;32m~\\AppData\\Local\\Programs\\Python\\Python310\\lib\\shutil.py:598\u001b[0m, in \u001b[0;36m_rmtree_unsafe\u001b[1;34m(path, onerror)\u001b[0m\n\u001b[0;32m    <a href='file:///c%3A/Users/Administrator/AppData/Local/Programs/Python/Python310/lib/shutil.py?line=595'>596</a>\u001b[0m         entries \u001b[39m=\u001b[39m \u001b[39mlist\u001b[39m(scandir_it)\n\u001b[0;32m    <a href='file:///c%3A/Users/Administrator/AppData/Local/Programs/Python/Python310/lib/shutil.py?line=596'>597</a>\u001b[0m \u001b[39mexcept\u001b[39;00m \u001b[39mOSError\u001b[39;00m:\n\u001b[1;32m--> <a href='file:///c%3A/Users/Administrator/AppData/Local/Programs/Python/Python310/lib/shutil.py?line=597'>598</a>\u001b[0m     onerror(os\u001b[39m.\u001b[39;49mscandir, path, sys\u001b[39m.\u001b[39;49mexc_info())\n\u001b[0;32m    <a href='file:///c%3A/Users/Administrator/AppData/Local/Programs/Python/Python310/lib/shutil.py?line=598'>599</a>\u001b[0m     entries \u001b[39m=\u001b[39m []\n\u001b[0;32m    <a href='file:///c%3A/Users/Administrator/AppData/Local/Programs/Python/Python310/lib/shutil.py?line=599'>600</a>\u001b[0m \u001b[39mfor\u001b[39;00m entry \u001b[39min\u001b[39;00m entries:\n",
      "File \u001b[1;32m~\\AppData\\Local\\Programs\\Python\\Python310\\lib\\shutil.py:595\u001b[0m, in \u001b[0;36m_rmtree_unsafe\u001b[1;34m(path, onerror)\u001b[0m\n\u001b[0;32m    <a href='file:///c%3A/Users/Administrator/AppData/Local/Programs/Python/Python310/lib/shutil.py?line=592'>593</a>\u001b[0m \u001b[39mdef\u001b[39;00m \u001b[39m_rmtree_unsafe\u001b[39m(path, onerror):\n\u001b[0;32m    <a href='file:///c%3A/Users/Administrator/AppData/Local/Programs/Python/Python310/lib/shutil.py?line=593'>594</a>\u001b[0m     \u001b[39mtry\u001b[39;00m:\n\u001b[1;32m--> <a href='file:///c%3A/Users/Administrator/AppData/Local/Programs/Python/Python310/lib/shutil.py?line=594'>595</a>\u001b[0m         \u001b[39mwith\u001b[39;00m os\u001b[39m.\u001b[39;49mscandir(path) \u001b[39mas\u001b[39;00m scandir_it:\n\u001b[0;32m    <a href='file:///c%3A/Users/Administrator/AppData/Local/Programs/Python/Python310/lib/shutil.py?line=595'>596</a>\u001b[0m             entries \u001b[39m=\u001b[39m \u001b[39mlist\u001b[39m(scandir_it)\n\u001b[0;32m    <a href='file:///c%3A/Users/Administrator/AppData/Local/Programs/Python/Python310/lib/shutil.py?line=596'>597</a>\u001b[0m     \u001b[39mexcept\u001b[39;00m \u001b[39mOSError\u001b[39;00m:\n",
      "\u001b[1;31mFileNotFoundError\u001b[0m: [WinError 3] 지정된 경로를 찾을 수 없습니다: 'C:\\\\m\\\\test2'"
     ]
    }
   ],
   "source": [
    "# import shutil\n",
    "\n",
    "# shutil.rmtree('C:\\\\m\\\\test2')\n",
    "\n"
   ]
  },
  {
   "cell_type": "code",
   "execution_count": 39,
   "metadata": {},
   "outputs": [
    {
     "name": "stdout",
     "output_type": "stream",
     "text": [
      "C:\\m\\test\n"
     ]
    }
   ],
   "source": [
    "import os\n",
    "\n",
    "os.chdir('C:\\\\m\\\\test')\n",
    "print(os.getcwd())\n"
   ]
  },
  {
   "cell_type": "code",
   "execution_count": 81,
   "metadata": {},
   "outputs": [],
   "source": [
    "# 파일저장\n",
    "\n",
    "f1 = open(\"test.txt\",\"wt\",encoding='utf-8')\n",
    "f1.write(\"hellobye \")\n",
    "f1.write(\"chunsic had sweet potatos\")\n",
    "f1.close()\n",
    "\n"
   ]
  },
  {
   "cell_type": "code",
   "execution_count": 44,
   "metadata": {},
   "outputs": [
    {
     "name": "stdout",
     "output_type": "stream",
     "text": [
      "hellobye chunsic had sweet potatos\n"
     ]
    }
   ],
   "source": [
    "f2 = open(\"test.txt\",\"rt\")\n",
    "print(f2.read())\n",
    "f2.close()"
   ]
  },
  {
   "cell_type": "code",
   "execution_count": 53,
   "metadata": {},
   "outputs": [
    {
     "ename": "FileNotFoundError",
     "evalue": "[Errno 2] No such file or directory: 'cat.jpg'",
     "output_type": "error",
     "traceback": [
      "\u001b[1;31m---------------------------------------------------------------------------\u001b[0m",
      "\u001b[1;31mFileNotFoundError\u001b[0m                         Traceback (most recent call last)",
      "\u001b[1;32mc:\\m\\220306.ipynb Cell 22'\u001b[0m in \u001b[0;36m<cell line: 1>\u001b[1;34m()\u001b[0m\n\u001b[1;32m----> <a href='vscode-notebook-cell:/c%3A/m/220306.ipynb#ch0000024?line=0'>1</a>\u001b[0m f3 \u001b[39m=\u001b[39m \u001b[39mopen\u001b[39;49m(\u001b[39m\"\u001b[39;49m\u001b[39mcat.jpg\u001b[39;49m\u001b[39m\"\u001b[39;49m,\u001b[39m\"\u001b[39;49m\u001b[39mrb\u001b[39;49m\u001b[39m\"\u001b[39;49m)\n\u001b[0;32m      <a href='vscode-notebook-cell:/c%3A/m/220306.ipynb#ch0000024?line=1'>2</a>\u001b[0m img\u001b[39m=\u001b[39mf3\u001b[39m.\u001b[39mread()\n\u001b[0;32m      <a href='vscode-notebook-cell:/c%3A/m/220306.ipynb#ch0000024?line=2'>3</a>\u001b[0m f3\u001b[39m.\u001b[39mclose()\n",
      "\u001b[1;31mFileNotFoundError\u001b[0m: [Errno 2] No such file or directory: 'cat.jpg'"
     ]
    }
   ],
   "source": [
    "f3 = open(\"cat.jpg\",\"rb\")\n",
    "img=f3.read()\n",
    "f3.close()\n"
   ]
  },
  {
   "cell_type": "code",
   "execution_count": 52,
   "metadata": {},
   "outputs": [],
   "source": [
    "w1 = open(\"test1.txt\",\"wt\")\n"
   ]
  },
  {
   "cell_type": "code",
   "execution_count": 58,
   "metadata": {},
   "outputs": [],
   "source": [
    "\n",
    "\n",
    "for a in range(2,7) :\n",
    "   fname=\"test\"+str(a)\n",
    "   open(fname,\"wt\")"
   ]
  },
  {
   "cell_type": "code",
   "execution_count": 69,
   "metadata": {},
   "outputs": [],
   "source": [
    "\n",
    "w2 = open(\"test2.txt\",\"wt\",encoding='utf-8')\n",
    "w2.write(\"안녕하세요\\n\")\n",
    "w2.write(\"전 홍길동입니다\\n\")\n",
    "w2.write(\"잘 부탁드립니다\\n\")\n",
    "w2.close()\n",
    "\n"
   ]
  },
  {
   "cell_type": "code",
   "execution_count": 83,
   "metadata": {},
   "outputs": [
    {
     "name": "stdout",
     "output_type": "stream",
     "text": [
      "<_io.TextIOWrapper name='test.txt' mode='r' encoding='cp949'>\n"
     ]
    }
   ],
   "source": [
    "f= open(\"test.txt\",\"r\")\n",
    "song =f.readlines()\n",
    "print(f)\n",
    "# print(f[1])"
   ]
  },
  {
   "cell_type": "code",
   "execution_count": null,
   "metadata": {},
   "outputs": [],
   "source": [
    "#CMD install\n",
    "# pip install numpy\n",
    "# pip install pandas // xlsx 파일형식\n",
    "# pip install openpyxl\n"
   ]
  }
 ],
 "metadata": {
  "interpreter": {
   "hash": "4e0b39fdc4f2df2992ef135d097972ec225e019845a073717c5b1bc8df292c8a"
  },
  "kernelspec": {
   "display_name": "Python 3.10.2 64-bit",
   "language": "python",
   "name": "python3"
  },
  "language_info": {
   "codemirror_mode": {
    "name": "ipython",
    "version": 3
   },
   "file_extension": ".py",
   "mimetype": "text/x-python",
   "name": "python",
   "nbconvert_exporter": "python",
   "pygments_lexer": "ipython3",
   "version": "3.10.2"
  },
  "orig_nbformat": 4
 },
 "nbformat": 4,
 "nbformat_minor": 2
}
