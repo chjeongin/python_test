{
 "cells": [
  {
   "cell_type": "code",
   "execution_count": 33,
   "metadata": {},
   "outputs": [
    {
     "name": "stdout",
     "output_type": "stream",
     "text": [
      "a     2.00\n",
      "b     5.00\n",
      "c     8.00\n",
      "d     3.00\n",
      "e    74.00\n",
      "f     5.55\n",
      "dtype: float64\n"
     ]
    }
   ],
   "source": [
    "# Pandas 의 기본 객체\n",
    "# series --> 1차원 어레이 \n",
    "# Dataframe -->2차원 (행, 열)\n",
    "\n",
    "\n",
    "# 첫번쨰 컬럼 --> 인덱스\n",
    "# 첫번째 행(필드) --> key\n",
    "\n",
    "\n",
    "# np.array(1,2,3,4) --> 잘못된 형식\n",
    "# np.array((1,2,3,4))  --> 맞음\n",
    "# np.array([1,2,3,4]) --> 맞음\n",
    "\n",
    "import pandas as pd\n",
    "# s = pd.Series([1,3,5,7.52,9])\n",
    "# print(s)\n",
    "\n",
    "\n",
    "# 인덱스 지정\n",
    "s = pd.Series([2,5,8,3,74,5.55], index=['a','b','c','d','e','f'])\n",
    "print(s)"
   ]
  },
  {
   "cell_type": "code",
   "execution_count": 15,
   "metadata": {},
   "outputs": [
    {
     "name": "stdout",
     "output_type": "stream",
     "text": [
      "[1 2 3]\n",
      "[0. 0. 0.]\n",
      "[[1. 1. 1.]\n",
      " [1. 1. 1.]]\n"
     ]
    }
   ],
   "source": [
    "import numpy as np\n",
    "a = np.array([1,2,3])\n",
    "print(a)\n",
    "\n",
    "# 0으로 채워진 어레이 만들기\n",
    "b = np.zeros(3)\n",
    "print(b)\n",
    "# 1로만 채워진 어레이 만들기\n",
    "c=np.ones((2,3))\n",
    "print(c)"
   ]
  },
  {
   "cell_type": "code",
   "execution_count": 18,
   "metadata": {},
   "outputs": [],
   "source": [
    "# numpy.add() //두 어레이의 값들을 요소별로 더함\n",
    "#numpy.multiply() //두 어레이값을 요소별로 곱합\n",
    "\n"
   ]
  },
  {
   "cell_type": "code",
   "execution_count": 23,
   "metadata": {},
   "outputs": [
    {
     "name": "stdout",
     "output_type": "stream",
     "text": [
      "[ 5. 11.  8. 14.]\n",
      "[ 4. 18. 15. 40.]\n",
      "2.5\n"
     ]
    }
   ],
   "source": [
    "import numpy as np\n",
    "a= np.array([1.,2.,3.,4.])\n",
    "b= np.array([4.,9.,5.,10.])\n",
    "\n",
    "print(np.add(a,b))\n",
    "# 요소별 곱\n",
    "print(np.multiply(a,b))\n",
    "# 어레이 랎의 평균\n",
    "print(np.mean(a))"
   ]
  },
  {
   "cell_type": "code",
   "execution_count": 25,
   "metadata": {},
   "outputs": [
    {
     "name": "stdout",
     "output_type": "stream",
     "text": [
      "[[0.54759245 0.81928538 0.29293692 0.46225288 0.663944  ]\n",
      " [0.8312083  0.50292698 0.74003191 0.1885651  0.49928859]]\n",
      "[[-1.34157872  0.3751789   0.28650403 -0.69844425  0.90057874]\n",
      " [-0.16671928 -0.00990175  0.40673525  0.50111764  0.36921615]]\n"
     ]
    }
   ],
   "source": [
    "import numpy as np\n",
    "# 0과 1 범위에서 균일한 분포를 갖는 숫자들 샘플링\n",
    "a= np.random.rand(2,5)\n",
    "print(a)\n",
    "# 표준정규분포를 갖는 숫자들을 샘플링\n",
    "b=np.random.randn(2,5)\n",
    "print(b)"
   ]
  },
  {
   "cell_type": "code",
   "execution_count": 27,
   "metadata": {},
   "outputs": [
    {
     "name": "stdout",
     "output_type": "stream",
     "text": [
      "3.141592653589793\n",
      "2.718281828459045\n"
     ]
    }
   ],
   "source": [
    "import numpy as np\n",
    "a = np.pi\n",
    "print(a)\n",
    "\n",
    "# 오일러 상수\n",
    "b=np.e\n",
    "print(b)"
   ]
  },
  {
   "cell_type": "code",
   "execution_count": 35,
   "metadata": {},
   "outputs": [
    {
     "name": "stdout",
     "output_type": "stream",
     "text": [
      "[1.2 2.  3.  4. ]\n",
      "<class 'numpy.ndarray'>\n",
      "float64\n"
     ]
    }
   ],
   "source": [
    "import numpy as np\n",
    "a = np.array([1.2,2,3,4])\n",
    "print(a)\n",
    "print(type(a))\n",
    "print(a.dtype)"
   ]
  },
  {
   "cell_type": "code",
   "execution_count": 46,
   "metadata": {},
   "outputs": [
    {
     "name": "stdout",
     "output_type": "stream",
     "text": [
      "[[1.+0.j 2.+0.j 3.+0.j]\n",
      " [5.+0.j 6.+0.j 8.+0.j]]\n"
     ]
    }
   ],
   "source": [
    "import numpy as np\n",
    "a = np.array([(1,2,3),(5,6,8)], dtype=complex)\n",
    "print(a)"
   ]
  },
  {
   "cell_type": "code",
   "execution_count": 47,
   "metadata": {},
   "outputs": [],
   "source": [
    "import pandas as pd\n",
    "no = []\n",
    "sjname = ['수학','과학','파이썬']\n",
    "no.append(1)\n",
    "no.append(2)\n",
    "no.append(3)\n",
    "\n",
    "subject = pd.DataFrame()\n",
    "subject['과목번호']=no\n",
    "subject['과목명']=sjname\n",
    "print(subject)\n",
    "\n",
    "# 엑셀파일로 저장\n",
    "subject.to_excel(\"C:\\py_test\\subject.xls\", index=False)\n",
    "# csv확장자로 저장\n",
    "subject.to_csv(\"C:\\py_test\\subject.csv\", encoding=\"utf-8-sig\", index=False)\n"
   ]
  },
  {
   "cell_type": "code",
   "execution_count": 59,
   "metadata": {},
   "outputs": [
    {
     "name": "stdout",
     "output_type": "stream",
     "text": [
      "    이름  Age      성별\n",
      "0  홍길동   22    male\n",
      "1  홍길순   32  female\n",
      "2  임꺽정   50    male\n",
      "0    홍길동\n",
      "1    홍길순\n",
      "2    임꺽정\n",
      "Name: 이름, dtype: object\n",
      "    이름  Age      성별  고향\n",
      "0  홍길동   22    male  조선\n",
      "1  홍길순   32  female  대전\n",
      "2  임꺽정   50    male  서울\n",
      "50\n",
      "22\n",
      "34.666666666666664\n",
      "             Age\n",
      "count   3.000000\n",
      "mean   34.666667\n",
      "std    14.189198\n",
      "min    22.000000\n",
      "25%    27.000000\n",
      "50%    32.000000\n",
      "75%    41.000000\n",
      "max    50.000000\n"
     ]
    }
   ],
   "source": [
    "# 데이터 프레임은 파이썬의 리스트와 딕셔너리의 조합\n",
    "# 딕셔너리이름 = {}\n",
    "import pandas as pd\n",
    "df = pd.DataFrame({\"이름\":[\"홍길동\", \"홍길순\", \"임꺽정\" ], \"Age\":[22,32,50], \"성별\":[\"male\", \"female\", \"male\"]})\n",
    "\n",
    "print(df)\n",
    "\n",
    "# 데이터 프리엠에서 이름 컬럼만  출력\n",
    "print(df[\"이름\"])\n",
    "\n",
    "# 데이터 프레임에서 고향 컬럼 추가\n",
    "home = pd.Series([\"조선\", \"대전\", \"서울\"], name=\"고향\")\n",
    "df[\"고향\"] = home\n",
    "print(df)\n",
    "\n",
    "# 하나의 시리즈에 집계함수(평균, 최댓값, 최솟값)\n",
    "\n",
    "print(df[\"Age\"].max())\n",
    "print(df[\"Age\"].min())\n",
    "print(df[\"Age\"].mean())\n",
    "\n"
   ]
  },
  {
   "cell_type": "code",
   "execution_count": 63,
   "metadata": {},
   "outputs": [
    {
     "name": "stdout",
     "output_type": "stream",
     "text": [
      "0    22\n",
      "1    35\n",
      "2    50\n",
      "Name: Age, dtype: int64\n",
      "             Age\n",
      "count   3.000000\n",
      "mean   34.666667\n",
      "std    14.189198\n",
      "min    22.000000\n",
      "25%    27.000000\n",
      "50%    32.000000\n",
      "75%    41.000000\n",
      "max    50.000000\n",
      "    이름  Age      성별\n",
      "0  홍길동   22    male\n",
      "1  홍길순   32  female\n",
      "    이름  Age      성별\n",
      "1  홍길순   32  female\n",
      "2  임꺽정   50    male\n"
     ]
    }
   ],
   "source": [
    "import pandas as pd\n",
    "df = pd.DataFrame({\"이름\":[\"홍길동\", \"홍길순\", \"임꺽정\" ], \"Age\":[22,32,50], \"성별\":[\"male\", \"female\", \"male\"]})\n",
    "ages = pd.Series([22,35,50], name=\"Age\")\n",
    "print(ages)\n",
    "# 데이터 프레임 기본 통계\n",
    "print(df.describe())\n",
    "# head는 위에서 2개 출력\n",
    "print(df.head(2))\n",
    "\n",
    "# tail은 밑에서부터 잘라온다\n",
    "print(df.tail(2))"
   ]
  },
  {
   "cell_type": "code",
   "execution_count": 64,
   "metadata": {},
   "outputs": [],
   "source": [
    "# 문자 --> 숫자 : 인코딩\n",
    "# 숫자 --> 문자 : 디코딩"
   ]
  },
  {
   "cell_type": "code",
   "execution_count": 76,
   "metadata": {},
   "outputs": [
    {
     "name": "stdout",
     "output_type": "stream",
     "text": [
      "   Unnamed: 0  order_no user_id user_pass name address product    price  brand\n",
      "0           0         1   user1     pass1  손흥민      런던     운동화   100000    나이키\n",
      "1           1         2   user2     pass2   설현      서울      코트   150000    버버리\n",
      "2           2         3   user3     pass3   원빈      대전     반바지    30000   유니클로\n",
      "3           3         4   user4     pass4  송혜교      대구     스커트    55000     자라\n",
      "4           4         5   user5     pass5  소지섭      부산      코트  1100000   알레그리\n",
      "5           5         6   user6     pass6  김지원      울산     티셔츠     9900   지오다노\n",
      "6           6         7   user6     pass6  김지원      울산     운동화   220000     텐디\n",
      "7           7         8   user1     pass1  손흥민      런던     스커트    30000  크로커다일\n",
      "8           8         9   user1     pass1  손흥민      런던      코트   580000    띠어리\n"
     ]
    }
   ],
   "source": [
    "import pandas as pd\n",
    "\n",
    "df = pd.read_excel(\"order.xlsx\")\n",
    "\n",
    "# 필터링, 그룹화\n",
    "print(df)\n",
    "# 1. 손흥민의 주문 개수는? \n",
    "\n",
    "# 2. 손흥민이 산 상품은? \n",
    "\n",
    "# 3. 스커트를 산 사람은? \n",
    "\n",
    "# 4. 가장 많이 주문한 사람의 아이디와 이름, 주문개수는? \n",
    "\n",
    "# 5. 김지원이 사용한 총 금액은? "
   ]
  },
  {
   "cell_type": "code",
   "execution_count": 96,
   "metadata": {},
   "outputs": [
    {
     "name": "stdout",
     "output_type": "stream",
     "text": [
      "3\n",
      "0    운동화\n",
      "7    스커트\n",
      "8     코트\n",
      "Name: product, dtype: object\n",
      "3    송혜교\n",
      "7    손흥민\n",
      "Name: name, dtype: object\n",
      "5      9900\n",
      "6    220000\n",
      "Name: price, dtype: int64\n",
      "229900\n"
     ]
    }
   ],
   "source": [
    "import pandas as pd\n",
    "df = pd.read_excel(\"order.xlsx\")\n",
    "\n",
    "# 1. 손흥민의 주문 개수는? \n",
    "\n",
    "is_son = df[\"name\"] == \"손흥민\"\n",
    "print(df[is_son][\"order_no\"].count())\n",
    "\n",
    "\n",
    "# 2. 손흥민이 산 상품은? \n",
    "print(df[is_son][\"product\"])\n",
    "\n",
    "# 3. 스커트를 산 사람은? \n",
    "is_skirt = df[\"product\"] == \"스커트\"\n",
    "\n",
    "print(df[is_skirt][\"name\"])\n",
    "\n",
    "# 5. 김지원이 사용한 총 금액은? \n",
    "is_kgy = df[\"name\"] == \"김지원\"\n",
    "print(df[is_kgy][\"price\"]) #김지원이 총 사용한 금액 리스트\n",
    "print(df[is_kgy][\"price\"].sum()) # 김지원이 총 사용한 금액 합\n"
   ]
  },
  {
   "cell_type": "code",
   "execution_count": 98,
   "metadata": {},
   "outputs": [
    {
     "name": "stdout",
     "output_type": "stream",
     "text": [
      "user_id  name\n",
      "user1    손흥민     3\n",
      "user2    설현      1\n",
      "user3    원빈      1\n",
      "user4    송혜교     1\n",
      "user5    소지섭     1\n",
      "user6    김지원     2\n",
      "Name: order_no, dtype: int64\n"
     ]
    },
    {
     "ename": "TypeError",
     "evalue": "list.count() takes exactly one argument (0 given)",
     "output_type": "error",
     "traceback": [
      "\u001b[1;31m---------------------------------------------------------------------------\u001b[0m",
      "\u001b[1;31mTypeError\u001b[0m                                 Traceback (most recent call last)",
      "\u001b[1;32mc:\\m\\220319.ipynb Cell 15'\u001b[0m in \u001b[0;36m<cell line: 6>\u001b[1;34m()\u001b[0m\n\u001b[0;32m      <a href='vscode-notebook-cell:/c%3A/m/220319.ipynb#ch0000017?line=3'>4</a>\u001b[0m \u001b[39m# 4-2 가장 많이 주문한 사람의 아이디와 이름, 주문개수를 추출\u001b[39;00m\n\u001b[0;32m      <a href='vscode-notebook-cell:/c%3A/m/220319.ipynb#ch0000017?line=4'>5</a>\u001b[0m newdf\u001b[39m=\u001b[39mdf\u001b[39m.\u001b[39mgroupby([\u001b[39m\"\u001b[39m\u001b[39muser_id\u001b[39m\u001b[39m\"\u001b[39m,\u001b[39m\"\u001b[39m\u001b[39mname\u001b[39m\u001b[39m\"\u001b[39m])\n\u001b[1;32m----> <a href='vscode-notebook-cell:/c%3A/m/220319.ipynb#ch0000017?line=5'>6</a>\u001b[0m [\u001b[39m\"\u001b[39;49m\u001b[39morder_no\u001b[39;49m\u001b[39m\"\u001b[39;49m]\u001b[39m.\u001b[39;49mcount()\u001b[39m.\u001b[39mreset_index(name\u001b[39m=\u001b[39m\u001b[39m\"\u001b[39m\u001b[39mcount\u001b[39m\u001b[39m\"\u001b[39m)\n\u001b[0;32m      <a href='vscode-notebook-cell:/c%3A/m/220319.ipynb#ch0000017?line=6'>7</a>\u001b[0m newdf\u001b[39m=\u001b[39mnewdf\u001b[39m.\u001b[39msort_value(\u001b[39m\"\u001b[39m\u001b[39mcount\u001b[39m\u001b[39m\"\u001b[39m, ascending\u001b[39m=\u001b[39m\u001b[39mFalse\u001b[39;00m)\n\u001b[0;32m      <a href='vscode-notebook-cell:/c%3A/m/220319.ipynb#ch0000017?line=7'>8</a>\u001b[0m \u001b[39mprint\u001b[39m(newdf)\n",
      "\u001b[1;31mTypeError\u001b[0m: list.count() takes exactly one argument (0 given)"
     ]
    }
   ],
   "source": [
    "# 4. 가장 많이 주문한 사람의 아이디와 이름, 주문개수는? \n",
    "# 4-1 주문한 사람의 아이디와 이름, 주문 개수에 대한 표\n",
    "print(df.groupby([\"user_id\",\"name\"])[\"order_no\"].count())\n",
    "# 4-2 가장 많이 주문한 사람의 아이디와 이름, 주문개수를 추출\n",
    "newdf=df.groupby([\"user_id\",\"name\"])\n",
    "[\"order_no\"].count().reset_index(name=\"count\")\n",
    "newdf=newdf.sort_value(\"count\", ascending=False)\n",
    "print(newdf)\n",
    "\n"
   ]
  },
  {
   "cell_type": "code",
   "execution_count": 99,
   "metadata": {},
   "outputs": [],
   "source": [
    "# pip install selenium\n",
    "# pip install matplotlib"
   ]
  },
  {
   "cell_type": "code",
   "execution_count": 200,
   "metadata": {},
   "outputs": [
    {
     "data": {
      "text/plain": [
       "<function matplotlib.pyplot.show(close=None, block=None)>"
      ]
     },
     "execution_count": 200,
     "metadata": {},
     "output_type": "execute_result"
    },
    {
     "data": {
      "image/png": "[encoded data removed]",
      "text/plain": [
       "<Figure size 640x480 with 1 Axes>"
      ]
     },
     "metadata": {},
     "output_type": "display_data"
    }
   ],
   "source": [
    "import matplotlib.pyplot as plt\n",
    "# x축, y축 좌포를 지정하지 않을 경우, x축은 0부터 1씩 증가, y축은 사용자가 지정한 값으로 인식함.\n",
    "plt.style.use('default')\n",
    "plt.plot([2,1,5,9])\n",
    "plt.show\n",
    "\n",
    "x = [2,4,6,8]\n",
    "y = [1,3,5,7]\n",
    "plt.plot(x,y)\n",
    "plt.show"
   ]
  },
  {
   "cell_type": "code",
   "execution_count": 199,
   "metadata": {},
   "outputs": [
    {
     "data": {
      "text/plain": [
       "[<matplotlib.lines.Line2D at 0x1c112116650>]"
      ]
     },
     "execution_count": 199,
     "metadata": {},
     "output_type": "execute_result"
    },
    {
     "data": {
      "image/png": "[encoded data removed]",
      "text/plain": [
       "<Figure size 640x480 with 1 Axes>"
      ]
     },
     "metadata": {},
     "output_type": "display_data"
    }
   ],
   "source": [
    "x = range(0,10)\n",
    "y = range(5,15)\n",
    "plt.plot(x,y,\"y+\")\n",
    "\n",
    "# 색상표 b : blue, r : red, m : viloet, y : yellow, k : black, w : white\n",
    "# 마커표 o 원, v 역삼각형, ^삼각형, s 사각형, + 플러스형태, . 점형태"
   ]
  },
  {
   "cell_type": "code",
   "execution_count": 119,
   "metadata": {},
   "outputs": [
    {
     "data": {
      "text/plain": [
       "<function matplotlib.pyplot.show(close=None, block=None)>"
      ]
     },
     "execution_count": 119,
     "metadata": {},
     "output_type": "execute_result"
    },
    {
     "data": {
      "image/png": "[encoded data removed]",
      "text/plain": [
       "<Figure size 640x480 with 2 Axes>"
      ]
     },
     "metadata": {},
     "output_type": "display_data"
    }
   ],
   "source": [
    "fig = plt.figure()\n",
    "# fig.add_subplot(행의 갯수, 열의 갯수, 위치값)\n",
    "ax1 = fig.add_subplot(1,2,1,)\n",
    "ax2 = fig.add_subplot(1,2,2)\n",
    "plt.show"
   ]
  },
  {
   "cell_type": "code",
   "execution_count": 151,
   "metadata": {},
   "outputs": [
    {
     "data": {
      "image/png": "[encoded data removed]",
      "text/plain": [
       "<Figure size 640x480 with 2 Axes>"
      ]
     },
     "metadata": {},
     "output_type": "display_data"
    }
   ],
   "source": [
    "# 그래프의 위치 조정(디자인)\n",
    "fig = plt.figure()\n",
    "# fig.add_subplot(행의 갯수, 열의 갯수, 위치값)\n",
    "ax1 = fig.add_subplot(1,2,1,)\n",
    "ax2 = fig.add_subplot(1,2,2)\n",
    "plt.show\n",
    "\n",
    "# 원하는 위치에 값입력하여 그래프를 그림\n",
    "x = range(0,10)\n",
    "y = range(5,15)\n",
    "ax1.plot(x,y, 'bo')\n",
    "\n",
    "x = range(0,50)\n",
    "y = range(0,50)\n",
    "ax2.plot(x,y,'y^')\n",
    "# plt.show()\n",
    "\n",
    "# 범례출력\n",
    "ax1.set_xlabel('time')\n",
    "ax1.set_ylabel('price')\n",
    "\n",
    "ax2.set_xlabel('time')\n",
    "ax2.set_ylabel('price')\n",
    "plt.show()\n"
   ]
  },
  {
   "cell_type": "code",
   "execution_count": 180,
   "metadata": {},
   "outputs": [
    {
     "data": {
      "image/png": "[encoded data removed]",
      "text/plain": [
       "<Figure size 640x480 with 2 Axes>"
      ]
     },
     "metadata": {},
     "output_type": "display_data"
    }
   ],
   "source": [
    "# 폰트지정\n",
    "\n",
    "from matplotlib import pyplot as plt\n",
    "import matplotlib.font_manager as fm\n",
    "import matplotlib\n",
    "\n",
    "font_location = \"C:\\\\Windows\\\\Fonts\\\\AGENCYR.TTF\"\n",
    "fontname = fm.FontProperties(fname=font_location).get_name()\n",
    "matplotlib.rc('font', family = fontname)\n",
    "\n",
    "# 그래프의 위치 조정(디자인)\n",
    "\n",
    "\n",
    "fig = plt.figure()\n",
    "# fig.add_subplot(행의 갯수, 열의 갯수, 위치값)\n",
    "ax1 = fig.add_subplot(1,2,1,)\n",
    "ax2 = fig.add_subplot(1,2,2)\n",
    "plt.show\n",
    "\n",
    "# 원하는 위치에 값입력하여 그래프를 그림\n",
    "x = range(0,10)\n",
    "y = range(5,15)\n",
    "ax1.plot(x,y, 'bo')\n",
    "\n",
    "x = range(0,50)\n",
    "y = range(0,50)\n",
    "ax2.plot(x,y,'y^')\n",
    "# plt.show()\n",
    "\n",
    "# 범례출력\n",
    "ax1.set_xlabel('시간')\n",
    "ax1.set_ylabel('가격')\n",
    "\n",
    "ax2.set_xlabel('시간')\n",
    "ax2.set_ylabel('가격')\n",
    "plt.show()\n"
   ]
  },
  {
   "cell_type": "code",
   "execution_count": 198,
   "metadata": {},
   "outputs": [
    {
     "data": {
      "image/png": "[encoded data removed]",
      "text/plain": [
       "<Figure size 640x480 with 1 Axes>"
      ]
     },
     "metadata": {},
     "output_type": "display_data"
    }
   ],
   "source": [
    "\n",
    "# 막대그래프 작성\n",
    "plt.style.use('ggplot')\n",
    "fig=plt.figure()\n",
    "ax = fig.add_subplot(111)\n",
    "colors = ['red', 'blue']\n",
    "labels = ['english', 'math']\n",
    "x = [3,4]\n",
    "y = [1,2]\n",
    "ax.bar(x,y, tick_label = labels, color = colors)\n",
    "for i, v in enumerate(y):\n",
    "    ax.text(v+2, i+1, str(v), color = 'red')\n",
    "\n",
    "plt.show()"
   ]
  },
  {
   "cell_type": "code",
   "execution_count": 197,
   "metadata": {},
   "outputs": [
    {
     "data": {
      "image/png": "[encoded data removed]",
      "text/plain": [
       "<Figure size 640x480 with 1 Axes>"
      ]
     },
     "metadata": {},
     "output_type": "display_data"
    }
   ],
   "source": [
    "plt.style.use('ggplot')\n",
    "fig=plt.figure()\n",
    "ax = fig.add_subplot(111)\n",
    "colors = ['red', 'blue']\n",
    "labels = ['english', 'math']\n",
    "x = [3,4]\n",
    "y = [1,2]\n",
    "ax.barh(x,y, tick_label = labels, color = colors)\n",
    "\n",
    "\n",
    "plt.show()\n"
   ]
  },
  {
   "cell_type": "code",
   "execution_count": 210,
   "metadata": {},
   "outputs": [
    {
     "data": {
      "image/png": "[encoded data removed]",
      "text/plain": [
       "<Figure size 640x480 with 1 Axes>"
      ]
     },
     "metadata": {},
     "output_type": "display_data"
    }
   ],
   "source": [
    "import numpy as np\n",
    "x = [1,2]\n",
    "y1, y2, y3 = [1,2], [2,5], [3,9]\n",
    "fig=plt.figure()\n",
    "ax = fig.add_subplot(111)\n",
    "w = 0.2\n",
    "ax.bar(x,y1, width=w, label = \"english\")\n",
    "ax.bar(np.array(x)+w,y2,width=w, label = \"math\")\n",
    "ax.bar(np.array(x)+w*2,y3,width=w, label = \"korean\")\n",
    "ax.legend()\n",
    "plt.show()\n",
    "\n",
    "\n"
   ]
  },
  {
   "cell_type": "code",
   "execution_count": 1,
   "metadata": {},
   "outputs": [],
   "source": [
    "# git remote add origin git의주소 복사(shift+insert) .git\n",
    "# git status\n",
    "# git add *\n",
    "# git commit -m \"참고\"\n",
    "# git push origin master\n",
    "# git pull origin master"
   ]
  },
  {
   "cell_type": "code",
   "execution_count": null,
   "metadata": {},
   "outputs": [],
   "source": [
    "# fig = plt.figure(constrained_latout=True)\n",
    "# 자동으로 서식을 지정해줌.(너비 두께 높이 등)"
   ]
  }
 ],
 "metadata": {
  "interpreter": {
   "hash": "4e0b39fdc4f2df2992ef135d097972ec225e019845a073717c5b1bc8df292c8a"
  },
  "kernelspec": {
   "display_name": "Python 3.10.2 64-bit",
   "language": "python",
   "name": "python3"
  },
  "language_info": {
   "codemirror_mode": {
    "name": "ipython",
    "version": 3
   },
   "file_extension": ".py",
   "mimetype": "text/x-python",
   "name": "python",
   "nbconvert_exporter": "python",
   "pygments_lexer": "ipython3",
   "version": "3.10.2"
  },
  "orig_nbformat": 4
 },
 "nbformat": 4,
 "nbformat_minor": 2
}
