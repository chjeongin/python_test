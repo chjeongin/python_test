{
 "cells": [
  {
   "cell_type": "code",
   "execution_count": null,
   "metadata": {},
   "outputs": [],
   "source": [
    "# 깃허브 https://github.com/\n",
    "#  몽키 https://app.codemonkey.com/challenges/0\n",
    "#  알고리즘 기초 https://studio.code.org/s/course3\n",
    "#  기초 2 https://studio.code.org/s/course4\n",
    "# 기초업 코딩 https://codeup.kr/problemsetsol.php?psid=33\n",
    "# 코딩테스트 문제 https://programmers.co.kr/learn/challenges?tab=all_challenges\n",
    "# 프로그래머스 문제 https://programmers.co.kr/learn/challenges?tab=algorithm_practice_kit\n",
    "# 비주얼 스튜디오 코드 https://code.visualstudio.com/download\n",
    "# 파이썬 https://www.python.org/downloads/\n",
    "# 아나콘다 다운로드 https://www.anaconda.com/products/individual#download-section\n",
    "# git 설치 https://git-scm.com/"
   ]
  },
  {
   "cell_type": "code",
   "execution_count": null,
   "metadata": {},
   "outputs": [],
   "source": [
    "# 깃허브\n",
    "# git remote add origin shift+insert .git\n",
    "# git status\n",
    "# git add *\n",
    "# git commit -m \"참고\"\n",
    "# git push origin master\n",
    "# git pull origin master"
   ]
  }
 ],
 "metadata": {
  "language_info": {
   "name": "python"
  },
  "orig_nbformat": 4
 },
 "nbformat": 4,
 "nbformat_minor": 2
}
